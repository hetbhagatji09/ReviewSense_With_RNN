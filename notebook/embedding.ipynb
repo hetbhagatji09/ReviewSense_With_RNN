{
 "cells": [
  {
   "cell_type": "code",
   "execution_count": 4,
   "id": "2d20d151",
   "metadata": {},
   "outputs": [],
   "source": [
    "from tensorflow.keras.preprocessing import text\n",
    "from tensorflow import one_hot"
   ]
  },
  {
   "cell_type": "code",
   "execution_count": 2,
   "id": "08d5fadc",
   "metadata": {},
   "outputs": [],
   "source": [
    "sentences=['I am Het',\n",
    "          'I am Good boy',\n",
    "          'I am from DDU',\n",
    "          'City is NVS']"
   ]
  },
  {
   "cell_type": "code",
   "execution_count": 5,
   "id": "337f6c7f",
   "metadata": {},
   "outputs": [],
   "source": [
    "sentences\n",
    "vocabulary_size=10000"
   ]
  },
  {
   "cell_type": "code",
   "execution_count": 8,
   "id": "ed088fd2",
   "metadata": {},
   "outputs": [],
   "source": [
    "one_hot_array=[text.one_hot(words,vocabulary_size) for words in sentences]"
   ]
  },
  {
   "cell_type": "code",
   "execution_count": 10,
   "id": "f86ee86e",
   "metadata": {},
   "outputs": [
    {
     "data": {
      "text/plain": [
       "[[7314, 9981, 2191],\n",
       " [7314, 9981, 2412, 2857],\n",
       " [7314, 9981, 2743, 3520],\n",
       " [8780, 5274, 251]]"
      ]
     },
     "execution_count": 10,
     "metadata": {},
     "output_type": "execute_result"
    }
   ],
   "source": [
    "one_hot_array ##it gives on which index in vocabulary our word store"
   ]
  },
  {
   "cell_type": "code",
   "execution_count": null,
   "id": "495e4ec4",
   "metadata": {},
   "outputs": [],
   "source": []
  }
 ],
 "metadata": {
  "kernelspec": {
   "display_name": "Python 3 (ipykernel)",
   "language": "python",
   "name": "python3"
  },
  "language_info": {
   "codemirror_mode": {
    "name": "ipython",
    "version": 3
   },
   "file_extension": ".py",
   "mimetype": "text/x-python",
   "name": "python",
   "nbconvert_exporter": "python",
   "pygments_lexer": "ipython3",
   "version": "3.11.5"
  }
 },
 "nbformat": 4,
 "nbformat_minor": 5
}
