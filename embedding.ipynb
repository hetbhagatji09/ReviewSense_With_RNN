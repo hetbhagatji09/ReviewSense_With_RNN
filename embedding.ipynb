{
 "cells": [
  {
   "cell_type": "code",
   "execution_count": 20,
   "id": "40ea45e4",
   "metadata": {},
   "outputs": [],
   "source": [
    "from tensorflow.keras.preprocessing import text\n",
    "import warnings\n",
    "warnings.filterwarnings('ignore')\n",
    "from tensorflow import one_hot"
   ]
  },
  {
   "cell_type": "code",
   "execution_count": 2,
   "id": "cf247b25",
   "metadata": {},
   "outputs": [],
   "source": [
    "sentences=['I am Het',\n",
    "          'I am Good boy',\n",
    "          'I am from DDU',\n",
    "          'City is NVS']"
   ]
  },
  {
   "cell_type": "code",
   "execution_count": 25,
   "id": "432cd199",
   "metadata": {},
   "outputs": [],
   "source": [
    "sentences\n",
    "vocabulary_size=10000"
   ]
  },
  {
   "cell_type": "code",
   "execution_count": 26,
   "id": "62259538",
   "metadata": {},
   "outputs": [],
   "source": [
    "one_hot_array=[text.one_hot(words,vocabulary_size) for words in sentences]"
   ]
  },
  {
   "cell_type": "code",
   "execution_count": 27,
   "id": "0a8bbf77",
   "metadata": {},
   "outputs": [
    {
     "data": {
      "text/plain": [
       "[[7314, 9981, 2191],\n",
       " [7314, 9981, 2412, 2857],\n",
       " [7314, 9981, 2743, 3520],\n",
       " [8780, 5274, 251]]"
      ]
     },
     "execution_count": 27,
     "metadata": {},
     "output_type": "execute_result"
    }
   ],
   "source": [
    "one_hot_array ##it gives on which index in vocabulary our word store"
   ]
  },
  {
   "cell_type": "code",
   "execution_count": 49,
   "id": "7d323ae7",
   "metadata": {},
   "outputs": [],
   "source": [
    "from tensorflow.keras.models import Sequential\n",
    "from tensorflow.keras.utils import pad_sequences\n",
    "from tensorflow.keras.layers import Embedding\n",
    "max_len=8"
   ]
  },
  {
   "cell_type": "code",
   "execution_count": 50,
   "id": "bed6b15d",
   "metadata": {},
   "outputs": [],
   "source": [
    "embedded_docs=pad_sequences(one_hot_array,padding='pre',maxlen=max_len)"
   ]
  },
  {
   "cell_type": "code",
   "execution_count": 51,
   "id": "2dfd42e1",
   "metadata": {},
   "outputs": [],
   "source": [
    "##feature presentation\n",
    "dim=10"
   ]
  },
  {
   "cell_type": "code",
   "execution_count": 52,
   "id": "b270de87",
   "metadata": {},
   "outputs": [],
   "source": [
    "model=Sequential()\n",
    "model.add(Embedding(vocabulary_size,\n",
    "    dim,input_length=max_len))\n",
    "model.compile('adam','mse')\n",
    "model.build(input_shape=(None, max_len))\n"
   ]
  },
  {
   "cell_type": "code",
   "execution_count": 53,
   "id": "16d73853",
   "metadata": {},
   "outputs": [
    {
     "data": {
      "text/html": [
       "<pre style=\"white-space:pre;overflow-x:auto;line-height:normal;font-family:Menlo,'DejaVu Sans Mono',consolas,'Courier New',monospace\"><span style=\"font-weight: bold\">Model: \"sequential_8\"</span>\n",
       "</pre>\n"
      ],
      "text/plain": [
       "\u001b[1mModel: \"sequential_8\"\u001b[0m\n"
      ]
     },
     "metadata": {},
     "output_type": "display_data"
    },
    {
     "data": {
      "text/html": [
       "<pre style=\"white-space:pre;overflow-x:auto;line-height:normal;font-family:Menlo,'DejaVu Sans Mono',consolas,'Courier New',monospace\">┏━━━━━━━━━━━━━━━━━━━━━━━━━━━━━━━━━━━━━━┳━━━━━━━━━━━━━━━━━━━━━━━━━━━━━┳━━━━━━━━━━━━━━━━━┓\n",
       "┃<span style=\"font-weight: bold\"> Layer (type)                         </span>┃<span style=\"font-weight: bold\"> Output Shape                </span>┃<span style=\"font-weight: bold\">         Param # </span>┃\n",
       "┡━━━━━━━━━━━━━━━━━━━━━━━━━━━━━━━━━━━━━━╇━━━━━━━━━━━━━━━━━━━━━━━━━━━━━╇━━━━━━━━━━━━━━━━━┩\n",
       "│ embedding_7 (<span style=\"color: #0087ff; text-decoration-color: #0087ff\">Embedding</span>)              │ (<span style=\"color: #00d7ff; text-decoration-color: #00d7ff\">None</span>, <span style=\"color: #00af00; text-decoration-color: #00af00\">8</span>, <span style=\"color: #00af00; text-decoration-color: #00af00\">10</span>)               │         <span style=\"color: #00af00; text-decoration-color: #00af00\">100,000</span> │\n",
       "└──────────────────────────────────────┴─────────────────────────────┴─────────────────┘\n",
       "</pre>\n"
      ],
      "text/plain": [
       "┏━━━━━━━━━━━━━━━━━━━━━━━━━━━━━━━━━━━━━━┳━━━━━━━━━━━━━━━━━━━━━━━━━━━━━┳━━━━━━━━━━━━━━━━━┓\n",
       "┃\u001b[1m \u001b[0m\u001b[1mLayer (type)                        \u001b[0m\u001b[1m \u001b[0m┃\u001b[1m \u001b[0m\u001b[1mOutput Shape               \u001b[0m\u001b[1m \u001b[0m┃\u001b[1m \u001b[0m\u001b[1m        Param #\u001b[0m\u001b[1m \u001b[0m┃\n",
       "┡━━━━━━━━━━━━━━━━━━━━━━━━━━━━━━━━━━━━━━╇━━━━━━━━━━━━━━━━━━━━━━━━━━━━━╇━━━━━━━━━━━━━━━━━┩\n",
       "│ embedding_7 (\u001b[38;5;33mEmbedding\u001b[0m)              │ (\u001b[38;5;45mNone\u001b[0m, \u001b[38;5;34m8\u001b[0m, \u001b[38;5;34m10\u001b[0m)               │         \u001b[38;5;34m100,000\u001b[0m │\n",
       "└──────────────────────────────────────┴─────────────────────────────┴─────────────────┘\n"
      ]
     },
     "metadata": {},
     "output_type": "display_data"
    },
    {
     "data": {
      "text/html": [
       "<pre style=\"white-space:pre;overflow-x:auto;line-height:normal;font-family:Menlo,'DejaVu Sans Mono',consolas,'Courier New',monospace\"><span style=\"font-weight: bold\"> Total params: </span><span style=\"color: #00af00; text-decoration-color: #00af00\">100,000</span> (390.62 KB)\n",
       "</pre>\n"
      ],
      "text/plain": [
       "\u001b[1m Total params: \u001b[0m\u001b[38;5;34m100,000\u001b[0m (390.62 KB)\n"
      ]
     },
     "metadata": {},
     "output_type": "display_data"
    },
    {
     "data": {
      "text/html": [
       "<pre style=\"white-space:pre;overflow-x:auto;line-height:normal;font-family:Menlo,'DejaVu Sans Mono',consolas,'Courier New',monospace\"><span style=\"font-weight: bold\"> Trainable params: </span><span style=\"color: #00af00; text-decoration-color: #00af00\">100,000</span> (390.62 KB)\n",
       "</pre>\n"
      ],
      "text/plain": [
       "\u001b[1m Trainable params: \u001b[0m\u001b[38;5;34m100,000\u001b[0m (390.62 KB)\n"
      ]
     },
     "metadata": {},
     "output_type": "display_data"
    },
    {
     "data": {
      "text/html": [
       "<pre style=\"white-space:pre;overflow-x:auto;line-height:normal;font-family:Menlo,'DejaVu Sans Mono',consolas,'Courier New',monospace\"><span style=\"font-weight: bold\"> Non-trainable params: </span><span style=\"color: #00af00; text-decoration-color: #00af00\">0</span> (0.00 B)\n",
       "</pre>\n"
      ],
      "text/plain": [
       "\u001b[1m Non-trainable params: \u001b[0m\u001b[38;5;34m0\u001b[0m (0.00 B)\n"
      ]
     },
     "metadata": {},
     "output_type": "display_data"
    }
   ],
   "source": [
    "model.summary()"
   ]
  },
  {
   "cell_type": "code",
   "execution_count": 57,
   "id": "5601bbf9",
   "metadata": {},
   "outputs": [
    {
     "name": "stdout",
     "output_type": "stream",
     "text": [
      "\u001b[1m1/1\u001b[0m \u001b[32m━━━━━━━━━━━━━━━━━━━━\u001b[0m\u001b[37m\u001b[0m \u001b[1m0s\u001b[0m 90ms/step\n"
     ]
    },
    {
     "data": {
      "text/plain": [
       "array([[[-0.01915552,  0.02431417,  0.02285096, -0.04949391,\n",
       "         -0.03558147,  0.0265136 ,  0.0135484 ,  0.0239308 ,\n",
       "         -0.04474094, -0.0043381 ],\n",
       "        [-0.01915552,  0.02431417,  0.02285096, -0.04949391,\n",
       "         -0.03558147,  0.0265136 ,  0.0135484 ,  0.0239308 ,\n",
       "         -0.04474094, -0.0043381 ],\n",
       "        [-0.01915552,  0.02431417,  0.02285096, -0.04949391,\n",
       "         -0.03558147,  0.0265136 ,  0.0135484 ,  0.0239308 ,\n",
       "         -0.04474094, -0.0043381 ],\n",
       "        [-0.01915552,  0.02431417,  0.02285096, -0.04949391,\n",
       "         -0.03558147,  0.0265136 ,  0.0135484 ,  0.0239308 ,\n",
       "         -0.04474094, -0.0043381 ],\n",
       "        [-0.01915552,  0.02431417,  0.02285096, -0.04949391,\n",
       "         -0.03558147,  0.0265136 ,  0.0135484 ,  0.0239308 ,\n",
       "         -0.04474094, -0.0043381 ],\n",
       "        [-0.01895397, -0.03417199,  0.01064958,  0.00779666,\n",
       "         -0.03704884,  0.01296761,  0.03707853,  0.01153783,\n",
       "          0.00908775,  0.01872543],\n",
       "        [ 0.00080778,  0.02135768, -0.02261817,  0.00704012,\n",
       "          0.03108725,  0.02552172,  0.00172497,  0.03872282,\n",
       "         -0.02800969, -0.02532356],\n",
       "        [-0.04103317, -0.02723376,  0.04513318,  0.0066582 ,\n",
       "          0.01293863,  0.04386267, -0.03123765, -0.04234327,\n",
       "         -0.03553702, -0.03551269]],\n",
       "\n",
       "       [[-0.01915552,  0.02431417,  0.02285096, -0.04949391,\n",
       "         -0.03558147,  0.0265136 ,  0.0135484 ,  0.0239308 ,\n",
       "         -0.04474094, -0.0043381 ],\n",
       "        [-0.01915552,  0.02431417,  0.02285096, -0.04949391,\n",
       "         -0.03558147,  0.0265136 ,  0.0135484 ,  0.0239308 ,\n",
       "         -0.04474094, -0.0043381 ],\n",
       "        [-0.01915552,  0.02431417,  0.02285096, -0.04949391,\n",
       "         -0.03558147,  0.0265136 ,  0.0135484 ,  0.0239308 ,\n",
       "         -0.04474094, -0.0043381 ],\n",
       "        [-0.01915552,  0.02431417,  0.02285096, -0.04949391,\n",
       "         -0.03558147,  0.0265136 ,  0.0135484 ,  0.0239308 ,\n",
       "         -0.04474094, -0.0043381 ],\n",
       "        [-0.01895397, -0.03417199,  0.01064958,  0.00779666,\n",
       "         -0.03704884,  0.01296761,  0.03707853,  0.01153783,\n",
       "          0.00908775,  0.01872543],\n",
       "        [ 0.00080778,  0.02135768, -0.02261817,  0.00704012,\n",
       "          0.03108725,  0.02552172,  0.00172497,  0.03872282,\n",
       "         -0.02800969, -0.02532356],\n",
       "        [-0.03766791,  0.01373203,  0.04281678, -0.04137539,\n",
       "          0.01389858,  0.03901972, -0.02935909, -0.0089561 ,\n",
       "         -0.03710784, -0.03162688],\n",
       "        [ 0.01222897, -0.02227796,  0.0494788 ,  0.01453168,\n",
       "          0.03584728, -0.01490692,  0.03526434,  0.01485315,\n",
       "          0.03646729, -0.00388193]],\n",
       "\n",
       "       [[-0.01915552,  0.02431417,  0.02285096, -0.04949391,\n",
       "         -0.03558147,  0.0265136 ,  0.0135484 ,  0.0239308 ,\n",
       "         -0.04474094, -0.0043381 ],\n",
       "        [-0.01915552,  0.02431417,  0.02285096, -0.04949391,\n",
       "         -0.03558147,  0.0265136 ,  0.0135484 ,  0.0239308 ,\n",
       "         -0.04474094, -0.0043381 ],\n",
       "        [-0.01915552,  0.02431417,  0.02285096, -0.04949391,\n",
       "         -0.03558147,  0.0265136 ,  0.0135484 ,  0.0239308 ,\n",
       "         -0.04474094, -0.0043381 ],\n",
       "        [-0.01915552,  0.02431417,  0.02285096, -0.04949391,\n",
       "         -0.03558147,  0.0265136 ,  0.0135484 ,  0.0239308 ,\n",
       "         -0.04474094, -0.0043381 ],\n",
       "        [-0.01895397, -0.03417199,  0.01064958,  0.00779666,\n",
       "         -0.03704884,  0.01296761,  0.03707853,  0.01153783,\n",
       "          0.00908775,  0.01872543],\n",
       "        [ 0.00080778,  0.02135768, -0.02261817,  0.00704012,\n",
       "          0.03108725,  0.02552172,  0.00172497,  0.03872282,\n",
       "         -0.02800969, -0.02532356],\n",
       "        [ 0.01768411, -0.02118676, -0.00888765,  0.04599689,\n",
       "          0.04470805,  0.00756308, -0.01102341, -0.00762496,\n",
       "         -0.00162004, -0.00935894],\n",
       "        [-0.03642211,  0.03286941,  0.03032665,  0.01674641,\n",
       "          0.01341582, -0.03204256, -0.00705374,  0.04959296,\n",
       "         -0.02323438, -0.00407742]],\n",
       "\n",
       "       [[-0.01915552,  0.02431417,  0.02285096, -0.04949391,\n",
       "         -0.03558147,  0.0265136 ,  0.0135484 ,  0.0239308 ,\n",
       "         -0.04474094, -0.0043381 ],\n",
       "        [-0.01915552,  0.02431417,  0.02285096, -0.04949391,\n",
       "         -0.03558147,  0.0265136 ,  0.0135484 ,  0.0239308 ,\n",
       "         -0.04474094, -0.0043381 ],\n",
       "        [-0.01915552,  0.02431417,  0.02285096, -0.04949391,\n",
       "         -0.03558147,  0.0265136 ,  0.0135484 ,  0.0239308 ,\n",
       "         -0.04474094, -0.0043381 ],\n",
       "        [-0.01915552,  0.02431417,  0.02285096, -0.04949391,\n",
       "         -0.03558147,  0.0265136 ,  0.0135484 ,  0.0239308 ,\n",
       "         -0.04474094, -0.0043381 ],\n",
       "        [-0.01915552,  0.02431417,  0.02285096, -0.04949391,\n",
       "         -0.03558147,  0.0265136 ,  0.0135484 ,  0.0239308 ,\n",
       "         -0.04474094, -0.0043381 ],\n",
       "        [ 0.00716861,  0.02503635, -0.01758894,  0.03384335,\n",
       "         -0.04429995, -0.02799542, -0.01652955, -0.00789266,\n",
       "         -0.04670931, -0.03692319],\n",
       "        [-0.04766194,  0.04272535,  0.04142406, -0.00474688,\n",
       "          0.04021842,  0.02779511,  0.04368581, -0.0460276 ,\n",
       "          0.02340337,  0.00657845],\n",
       "        [ 0.00313462, -0.04818428, -0.01210356, -0.04904324,\n",
       "          0.00721021, -0.00217051,  0.03564784,  0.00372396,\n",
       "          0.02811429, -0.00089101]]], dtype=float32)"
      ]
     },
     "execution_count": 57,
     "metadata": {},
     "output_type": "execute_result"
    }
   ],
   "source": [
    "model.predict(embedded_docs)"
   ]
  },
  {
   "cell_type": "code",
   "execution_count": 58,
   "id": "ad9040cb",
   "metadata": {},
   "outputs": [],
   "source": [
    "##so every word of sentence is represent by 10 words of dimension"
   ]
  },
  {
   "cell_type": "code",
   "execution_count": 59,
   "id": "70469fea",
   "metadata": {},
   "outputs": [
    {
     "data": {
      "text/plain": [
       "array([   0,    0,    0,    0,    0, 7314, 9981, 2191])"
      ]
     },
     "execution_count": 59,
     "metadata": {},
     "output_type": "execute_result"
    }
   ],
   "source": [
    "embedded_docs[0]"
   ]
  },
  {
   "cell_type": "code",
   "execution_count": 56,
   "id": "d6c7740a",
   "metadata": {},
   "outputs": [
    {
     "ename": "ValueError",
     "evalue": "Exception encountered when calling Sequential.call().\n\n\u001b[1mCannot take the length of shape with unknown rank.\u001b[0m\n\nArguments received by Sequential.call():\n  • inputs=tf.Tensor(shape=<unknown>, dtype=int32)\n  • training=False\n  • mask=None",
     "output_type": "error",
     "traceback": [
      "\u001b[1;31m---------------------------------------------------------------------------\u001b[0m",
      "\u001b[1;31mValueError\u001b[0m                                Traceback (most recent call last)",
      "Cell \u001b[1;32mIn[56], line 1\u001b[0m\n\u001b[1;32m----> 1\u001b[0m model\u001b[38;5;241m.\u001b[39mpredict(embedded_docs[\u001b[38;5;241m0\u001b[39m])\n",
      "File \u001b[1;32m~\\AppData\\Roaming\\Python\\Python311\\site-packages\\keras\\src\\utils\\traceback_utils.py:122\u001b[0m, in \u001b[0;36mfilter_traceback.<locals>.error_handler\u001b[1;34m(*args, **kwargs)\u001b[0m\n\u001b[0;32m    119\u001b[0m     filtered_tb \u001b[38;5;241m=\u001b[39m _process_traceback_frames(e\u001b[38;5;241m.\u001b[39m__traceback__)\n\u001b[0;32m    120\u001b[0m     \u001b[38;5;66;03m# To get the full stack trace, call:\u001b[39;00m\n\u001b[0;32m    121\u001b[0m     \u001b[38;5;66;03m# `keras.config.disable_traceback_filtering()`\u001b[39;00m\n\u001b[1;32m--> 122\u001b[0m     \u001b[38;5;28;01mraise\u001b[39;00m e\u001b[38;5;241m.\u001b[39mwith_traceback(filtered_tb) \u001b[38;5;28;01mfrom\u001b[39;00m \u001b[38;5;28;01mNone\u001b[39;00m\n\u001b[0;32m    123\u001b[0m \u001b[38;5;28;01mfinally\u001b[39;00m:\n\u001b[0;32m    124\u001b[0m     \u001b[38;5;28;01mdel\u001b[39;00m filtered_tb\n",
      "File \u001b[1;32m~\\AppData\\Roaming\\Python\\Python311\\site-packages\\keras\\src\\utils\\traceback_utils.py:122\u001b[0m, in \u001b[0;36mfilter_traceback.<locals>.error_handler\u001b[1;34m(*args, **kwargs)\u001b[0m\n\u001b[0;32m    119\u001b[0m     filtered_tb \u001b[38;5;241m=\u001b[39m _process_traceback_frames(e\u001b[38;5;241m.\u001b[39m__traceback__)\n\u001b[0;32m    120\u001b[0m     \u001b[38;5;66;03m# To get the full stack trace, call:\u001b[39;00m\n\u001b[0;32m    121\u001b[0m     \u001b[38;5;66;03m# `keras.config.disable_traceback_filtering()`\u001b[39;00m\n\u001b[1;32m--> 122\u001b[0m     \u001b[38;5;28;01mraise\u001b[39;00m e\u001b[38;5;241m.\u001b[39mwith_traceback(filtered_tb) \u001b[38;5;28;01mfrom\u001b[39;00m \u001b[38;5;28;01mNone\u001b[39;00m\n\u001b[0;32m    123\u001b[0m \u001b[38;5;28;01mfinally\u001b[39;00m:\n\u001b[0;32m    124\u001b[0m     \u001b[38;5;28;01mdel\u001b[39;00m filtered_tb\n",
      "\u001b[1;31mValueError\u001b[0m: Exception encountered when calling Sequential.call().\n\n\u001b[1mCannot take the length of shape with unknown rank.\u001b[0m\n\nArguments received by Sequential.call():\n  • inputs=tf.Tensor(shape=<unknown>, dtype=int32)\n  • training=False\n  • mask=None"
     ]
    }
   ],
   "source": [
    "model.predict(embedded_docs[0])"
   ]
  },
  {
   "cell_type": "code",
   "execution_count": 65,
   "id": "a7a19090",
   "metadata": {},
   "outputs": [
    {
     "data": {
      "text/plain": [
       "(8,)"
      ]
     },
     "execution_count": 65,
     "metadata": {},
     "output_type": "execute_result"
    }
   ],
   "source": [
    "embedded_docs[0].shape"
   ]
  },
  {
   "cell_type": "code",
   "execution_count": 63,
   "id": "d17c047e",
   "metadata": {},
   "outputs": [],
   "source": [
    "import numpy as np\n",
    "\n",
    "# Reshape embedded_docs[0] to include the batch dimension\n",
    "single_input = np.expand_dims(embedded_docs[0], axis=0)"
   ]
  },
  {
   "cell_type": "code",
   "execution_count": 64,
   "id": "c96747af",
   "metadata": {},
   "outputs": [
    {
     "data": {
      "text/plain": [
       "(1, 8)"
      ]
     },
     "execution_count": 64,
     "metadata": {},
     "output_type": "execute_result"
    }
   ],
   "source": [
    "single_input.shape"
   ]
  },
  {
   "cell_type": "code",
   "execution_count": 66,
   "id": "00699ab8",
   "metadata": {},
   "outputs": [
    {
     "name": "stdout",
     "output_type": "stream",
     "text": [
      "\u001b[1m1/1\u001b[0m \u001b[32m━━━━━━━━━━━━━━━━━━━━\u001b[0m\u001b[37m\u001b[0m \u001b[1m0s\u001b[0m 174ms/step\n"
     ]
    },
    {
     "data": {
      "text/plain": [
       "array([[[-0.01915552,  0.02431417,  0.02285096, -0.04949391,\n",
       "         -0.03558147,  0.0265136 ,  0.0135484 ,  0.0239308 ,\n",
       "         -0.04474094, -0.0043381 ],\n",
       "        [-0.01915552,  0.02431417,  0.02285096, -0.04949391,\n",
       "         -0.03558147,  0.0265136 ,  0.0135484 ,  0.0239308 ,\n",
       "         -0.04474094, -0.0043381 ],\n",
       "        [-0.01915552,  0.02431417,  0.02285096, -0.04949391,\n",
       "         -0.03558147,  0.0265136 ,  0.0135484 ,  0.0239308 ,\n",
       "         -0.04474094, -0.0043381 ],\n",
       "        [-0.01915552,  0.02431417,  0.02285096, -0.04949391,\n",
       "         -0.03558147,  0.0265136 ,  0.0135484 ,  0.0239308 ,\n",
       "         -0.04474094, -0.0043381 ],\n",
       "        [-0.01915552,  0.02431417,  0.02285096, -0.04949391,\n",
       "         -0.03558147,  0.0265136 ,  0.0135484 ,  0.0239308 ,\n",
       "         -0.04474094, -0.0043381 ],\n",
       "        [-0.01895397, -0.03417199,  0.01064958,  0.00779666,\n",
       "         -0.03704884,  0.01296761,  0.03707853,  0.01153783,\n",
       "          0.00908775,  0.01872543],\n",
       "        [ 0.00080778,  0.02135768, -0.02261817,  0.00704012,\n",
       "          0.03108725,  0.02552172,  0.00172497,  0.03872282,\n",
       "         -0.02800969, -0.02532356],\n",
       "        [-0.04103317, -0.02723376,  0.04513318,  0.0066582 ,\n",
       "          0.01293863,  0.04386267, -0.03123765, -0.04234327,\n",
       "         -0.03553702, -0.03551269]]], dtype=float32)"
      ]
     },
     "execution_count": 66,
     "metadata": {},
     "output_type": "execute_result"
    }
   ],
   "source": [
    "model.predict(single_input)"
   ]
  },
  {
   "cell_type": "code",
   "execution_count": 67,
   "id": "d7cba8ce",
   "metadata": {},
   "outputs": [
    {
     "data": {
      "text/plain": [
       "(4, 8)"
      ]
     },
     "execution_count": 67,
     "metadata": {},
     "output_type": "execute_result"
    }
   ],
   "source": [
    "embedded_docs.shape"
   ]
  },
  {
   "cell_type": "code",
   "execution_count": null,
   "id": "eb610b5a",
   "metadata": {},
   "outputs": [],
   "source": []
  }
 ],
 "metadata": {
  "kernelspec": {
   "display_name": "Python 3 (ipykernel)",
   "language": "python",
   "name": "python3"
  },
  "language_info": {
   "codemirror_mode": {
    "name": "ipython",
    "version": 3
   },
   "file_extension": ".py",
   "mimetype": "text/x-python",
   "name": "python",
   "nbconvert_exporter": "python",
   "pygments_lexer": "ipython3",
   "version": "3.11.5"
  }
 },
 "nbformat": 4,
 "nbformat_minor": 5
}
